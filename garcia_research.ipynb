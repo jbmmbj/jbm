{
  "nbformat": 4,
  "nbformat_minor": 0,
  "metadata": {
    "colab": {
      "provenance": [],
      "authorship_tag": "ABX9TyM4G7rv7XZlTJ5MSj7cVPM9",
      "include_colab_link": true
    },
    "kernelspec": {
      "name": "python3",
      "display_name": "Python 3"
    },
    "language_info": {
      "name": "python"
    }
  },
  "cells": [
    {
      "cell_type": "markdown",
      "metadata": {
        "id": "view-in-github",
        "colab_type": "text"
      },
      "source": [
        "<a href=\"https://colab.research.google.com/github/jbmmbj/jbm/blob/main/garcia_research.ipynb\" target=\"_parent\"><img src=\"https://colab.research.google.com/assets/colab-badge.svg\" alt=\"Open In Colab\"/></a>"
      ]
    },
    {
      "cell_type": "code",
      "execution_count": 42,
      "metadata": {
        "colab": {
          "base_uri": "https://localhost:8080/"
        },
        "id": "NhRxscaXjlKD",
        "outputId": "2ced77f1-14c2-4ba3-930e-b71f457265f2"
      },
      "outputs": [
        {
          "output_type": "execute_result",
          "data": {
            "text/plain": [
              "19.47122063449069"
            ]
          },
          "metadata": {},
          "execution_count": 42
        }
      ],
      "source": [
        "\n",
        "from fractions import Fraction\n",
        "from decimal import Decimal\n",
        "import numpy\n",
        "\n",
        "repetitions = 3\n",
        "\n",
        "theta = 0\n",
        "h_sq = 1\n",
        "h = numpy.sqrt(h_sq)\n",
        "\n",
        "for n in range(2, repetitions):\n",
        "\n",
        "     theta += numpy.arctan(1/(h*(n**(3/2))))\n",
        "     h_sq += 1/(n**3)\n",
        "     h = numpy.sqrt(h_sq)\n",
        "\n",
        "theta * 180 / numpy.pi"
      ]
    },
    {
      "cell_type": "code",
      "source": [
        "h"
      ],
      "metadata": {
        "colab": {
          "base_uri": "https://localhost:8080/"
        },
        "id": "DrOAD1HqslP3",
        "outputId": "0ea3ca15-a4ee-4927-c110-3f28834ca755"
      },
      "execution_count": 15,
      "outputs": [
        {
          "output_type": "execute_result",
          "data": {
            "text/plain": [
              "1.096383554308937"
            ]
          },
          "metadata": {},
          "execution_count": 15
        }
      ]
    },
    {
      "cell_type": "code",
      "source": [
        "\n",
        "repetitions = 1452\n",
        "\n",
        "theta = 0\n",
        "h_sq = 1\n",
        "h = numpy.sqrt(h_sq)\n",
        "m = 3\n",
        "\n",
        "for n in range(2, repetitions):\n",
        "\n",
        "     for i in range(1, m):\n",
        "\n",
        "       theta += numpy.arctan(1/(h*(n**2)))\n",
        "       h_sq += 1/(n**4)\n",
        "       h = numpy.sqrt(h_sq)\n",
        "\n",
        "     m +=1\n",
        "\n",
        "\n",
        "print(theta * 180 / numpy.pi)"
      ],
      "metadata": {
        "colab": {
          "base_uri": "https://localhost:8080/"
        },
        "id": "qLibqam0mKm_",
        "outputId": "fc96d6b3-76c8-4ddb-f7b6-b04549686c59"
      },
      "execution_count": 29,
      "outputs": [
        {
          "output_type": "stream",
          "name": "stdout",
          "text": [
            "360.77676352561\n"
          ]
        }
      ]
    },
    {
      "cell_type": "code",
      "source": [
        "h"
      ],
      "metadata": {
        "colab": {
          "base_uri": "https://localhost:8080/"
        },
        "id": "hGTq5tEopuEl",
        "outputId": "74c4042b-2c16-43d3-9ff3-1627198aae2d"
      },
      "execution_count": 21,
      "outputs": [
        {
          "output_type": "execute_result",
          "data": {
            "text/plain": [
              "1.0307764064044151"
            ]
          },
          "metadata": {},
          "execution_count": 21
        }
      ]
    },
    {
      "cell_type": "code",
      "source": [
        "!nvidia-smi"
      ],
      "metadata": {
        "id": "9TDtxpp602gv"
      },
      "execution_count": null,
      "outputs": []
    },
    {
      "cell_type": "code",
      "source": [
        "numpy.sqrt(1+1/(2**4))"
      ],
      "metadata": {
        "colab": {
          "base_uri": "https://localhost:8080/"
        },
        "id": "9-ehGBh4_q4N",
        "outputId": "8004e3e7-db39-42b4-e737-1d240c4c1180"
      },
      "execution_count": 17,
      "outputs": [
        {
          "output_type": "execute_result",
          "data": {
            "text/plain": [
              "1.0307764064044151"
            ]
          },
          "metadata": {},
          "execution_count": 17
        }
      ]
    }
  ]
}